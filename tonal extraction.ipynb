{
 "cells": [
  {
   "cell_type": "code",
   "execution_count": 1,
   "id": "c7cf925e-e59e-4c7b-aedb-7902157cc5ea",
   "metadata": {},
   "outputs": [],
   "source": [
    "import torch\n",
    "import torchaudio\n",
    "import glob\n",
    "from tqdm.auto import tqdm\n",
    "import matplotlib.pyplot as plt\n",
    "import pandas as pd\n",
    "import os\n",
    "import json"
   ]
  },
  {
   "cell_type": "code",
   "execution_count": 2,
   "id": "d2d4a7a5-0ddb-4910-8660-803059b4932d",
   "metadata": {},
   "outputs": [
    {
     "data": {
      "text/plain": [
       "3384"
      ]
     },
     "execution_count": 2,
     "metadata": {},
     "output_type": "execute_result"
    }
   ],
   "source": [
    "audios = glob.glob('data/audio_data/train/*.wav')\n",
    "len(audios)"
   ]
  },
  {
   "cell_type": "code",
   "execution_count": 6,
   "id": "5a2043ec-4366-4994-a29a-e5fe4bb94aea",
   "metadata": {},
   "outputs": [
    {
     "data": {
      "text/html": [
       "<div>\n",
       "<style scoped>\n",
       "    .dataframe tbody tr th:only-of-type {\n",
       "        vertical-align: middle;\n",
       "    }\n",
       "\n",
       "    .dataframe tbody tr th {\n",
       "        vertical-align: top;\n",
       "    }\n",
       "\n",
       "    .dataframe thead th {\n",
       "        text-align: right;\n",
       "    }\n",
       "</style>\n",
       "<table border=\"1\" class=\"dataframe\">\n",
       "  <thead>\n",
       "    <tr style=\"text-align: right;\">\n",
       "      <th></th>\n",
       "      <th>id</th>\n",
       "      <th>path</th>\n",
       "      <th>canonical</th>\n",
       "      <th>transcript</th>\n",
       "    </tr>\n",
       "  </thead>\n",
       "  <tbody>\n",
       "    <tr>\n",
       "      <th>0</th>\n",
       "      <td>THA_Nu_6_S00042_201</td>\n",
       "      <td>audio_data/train/THA_Nu_6_S00042_201.wav</td>\n",
       "      <td>à má đã có bé lê có hà là quà quý</td>\n",
       "      <td>à má đã có bé lê có hà là quà quý</td>\n",
       "    </tr>\n",
       "    <tr>\n",
       "      <th>1</th>\n",
       "      <td>MK_7_NAM_S0005_6</td>\n",
       "      <td>audio_data/train/MK_7_NAM_S0005_6.wav</td>\n",
       "      <td>bắc thang bẻ ổi chín vàng trên cây</td>\n",
       "      <td>bắc thang bẻ ổi chín vàng trên cây</td>\n",
       "    </tr>\n",
       "    <tr>\n",
       "      <th>2</th>\n",
       "      <td>TPA_Nu_6_S0009_109</td>\n",
       "      <td>audio_data/train/TPA_Nu_6_S0009_109.wav</td>\n",
       "      <td>ba cô ai cũng đẹp như trăng rằm</td>\n",
       "      <td>ba cô ai cũng đẹp như trăng rằm</td>\n",
       "    </tr>\n",
       "    <tr>\n",
       "      <th>3</th>\n",
       "      <td>NHM_7_NU_S0006_63</td>\n",
       "      <td>audio_data/train/NHM_7_NU_S0006_63.wav</td>\n",
       "      <td>dòng cửu long đã no đầy lại tràn qua bờ tràn q...</td>\n",
       "      <td>dòng cửu long đã no đầy lại tràn qua bờ tràn q...</td>\n",
       "    </tr>\n",
       "    <tr>\n",
       "      <th>4</th>\n",
       "      <td>THA_Nu_6_S00042_109</td>\n",
       "      <td>audio_data/train/THA_Nu_6_S00042_109.wav</td>\n",
       "      <td>khi nghi nói đến sư tử chó xù như thế nào</td>\n",
       "      <td>khi nghi nói đến sư tử chó xù như thế nào</td>\n",
       "    </tr>\n",
       "  </tbody>\n",
       "</table>\n",
       "</div>"
      ],
      "text/plain": [
       "                    id                                      path  \\\n",
       "0  THA_Nu_6_S00042_201  audio_data/train/THA_Nu_6_S00042_201.wav   \n",
       "1     MK_7_NAM_S0005_6     audio_data/train/MK_7_NAM_S0005_6.wav   \n",
       "2   TPA_Nu_6_S0009_109   audio_data/train/TPA_Nu_6_S0009_109.wav   \n",
       "3    NHM_7_NU_S0006_63    audio_data/train/NHM_7_NU_S0006_63.wav   \n",
       "4  THA_Nu_6_S00042_109  audio_data/train/THA_Nu_6_S00042_109.wav   \n",
       "\n",
       "                                           canonical  \\\n",
       "0                  à má đã có bé lê có hà là quà quý   \n",
       "1                 bắc thang bẻ ổi chín vàng trên cây   \n",
       "2                    ba cô ai cũng đẹp như trăng rằm   \n",
       "3  dòng cửu long đã no đầy lại tràn qua bờ tràn q...   \n",
       "4          khi nghi nói đến sư tử chó xù như thế nào   \n",
       "\n",
       "                                          transcript  \n",
       "0                  à má đã có bé lê có hà là quà quý  \n",
       "1                 bắc thang bẻ ổi chín vàng trên cây  \n",
       "2                    ba cô ai cũng đẹp như trăng rằm  \n",
       "3  dòng cửu long đã no đầy lại tràn qua bờ tràn q...  \n",
       "4          khi nghi nói đến sư tử chó xù như thế nào  "
      ]
     },
     "execution_count": 6,
     "metadata": {},
     "output_type": "execute_result"
    }
   ],
   "source": [
    "df = pd.read_csv('data/metadata/train.csv')\n",
    "df.head()"
   ]
  },
  {
   "cell_type": "markdown",
   "id": "4d3ed7cb-350a-4077-a8fc-cdcaea772445",
   "metadata": {},
   "source": [
    "huyền, sắc, hỏi, ngã, nặng\n",
    "\n",
    "a ă â e ê o ô ơ i u y"
   ]
  },
  {
   "cell_type": "code",
   "execution_count": 27,
   "id": "a3326e76-ff4a-4563-9689-9546a52b3c6b",
   "metadata": {},
   "outputs": [],
   "source": [
    "tonal_symbols = {\n",
    "    5: 'ạặậẹệọộợịụỵ',\n",
    "    4: 'ãẵẫẽễõỗỡĩũỹ',\n",
    "    3: 'ảẳẩẻểỏổởỉủỷ',\n",
    "    2: 'áắấéếóốớíúý',\n",
    "    1: 'àằầèềòồờìùỳ',\n",
    "}\n",
    "\n",
    "def get_tonal(word):\n",
    "    for k, symbols in tonal_symbols.items():\n",
    "        for v in symbols:\n",
    "            if v in word:\n",
    "                return k\n",
    "    return 0\n",
    "\n",
    "def get_list_tonal(text):\n",
    "    return [get_tonal(w) for w in text.split()]"
   ]
  },
  {
   "cell_type": "code",
   "execution_count": 28,
   "id": "5edcc812-e7b2-4849-a077-5ffd2007339c",
   "metadata": {},
   "outputs": [],
   "source": [
    "tonal = df['transcript'].map(get_list_tonal)"
   ]
  },
  {
   "cell_type": "code",
   "execution_count": 30,
   "id": "e4af5503-dce6-4f8b-a049-07d106ad1643",
   "metadata": {},
   "outputs": [
    {
     "data": {
      "text/plain": [
       "'à má đã có bé lê có hà là quà quý'"
      ]
     },
     "execution_count": 30,
     "metadata": {},
     "output_type": "execute_result"
    }
   ],
   "source": [
    "df['transcript'][0]"
   ]
  },
  {
   "cell_type": "code",
   "execution_count": 29,
   "id": "3f1c0cf5-06a9-4674-9596-4dc0452993d6",
   "metadata": {},
   "outputs": [
    {
     "data": {
      "text/plain": [
       "0                   [1, 2, 4, 2, 2, 0, 2, 1, 1, 1, 2]\n",
       "1                            [2, 0, 3, 3, 2, 1, 0, 0]\n",
       "2                            [0, 0, 0, 4, 5, 0, 0, 1]\n",
       "3       [1, 0, 0, 4, 0, 1, 5, 1, 0, 1, 1, 0, 3, 5, 1]\n",
       "4                   [0, 0, 2, 2, 0, 0, 2, 1, 0, 2, 1]\n",
       "                            ...                      \n",
       "3379                                           [0, 0]\n",
       "3380                                           [1, 0]\n",
       "3381                                           [4, 0]\n",
       "3382                                           [3, 0]\n",
       "3383                                           [2, 0]\n",
       "Name: transcript, Length: 3384, dtype: object"
      ]
     },
     "execution_count": 29,
     "metadata": {},
     "output_type": "execute_result"
    }
   ],
   "source": [
    "tonal"
   ]
  }
 ],
 "metadata": {
  "kernelspec": {
   "display_name": "Python 3 (ipykernel)",
   "language": "python",
   "name": "python3"
  },
  "language_info": {
   "codemirror_mode": {
    "name": "ipython",
    "version": 3
   },
   "file_extension": ".py",
   "mimetype": "text/x-python",
   "name": "python",
   "nbconvert_exporter": "python",
   "pygments_lexer": "ipython3",
   "version": "3.9.17"
  }
 },
 "nbformat": 4,
 "nbformat_minor": 5
}
