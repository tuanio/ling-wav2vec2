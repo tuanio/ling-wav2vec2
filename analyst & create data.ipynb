{
 "cells": [
  {
   "cell_type": "code",
   "execution_count": 1,
   "id": "667dd2a0-51db-4530-aa7d-ae1e85ac0c45",
   "metadata": {
    "tags": []
   },
   "outputs": [],
   "source": [
    "import torch\n",
    "import torchaudio\n",
    "import glob\n",
    "from tqdm.auto import tqdm\n",
    "import matplotlib.pyplot as plt\n",
    "import pandas as pd\n",
    "import os\n",
    "import json\n",
    "import numpy as np\n",
    "import ftfy"
   ]
  },
  {
   "cell_type": "code",
   "execution_count": 2,
   "id": "f024a784-08da-4f1b-9cb5-45a44956802e",
   "metadata": {},
   "outputs": [],
   "source": [
    "root = '/home/stud_vantuan/projects/md_d_vlsp_2023/data'\n",
    "\n",
    "paths = {\n",
    "    'train': {\n",
    "        'phone_csv': root + '/metadata/train_phones.csv',\n",
    "        'word_csv': root + '/metadata/train.csv',\n",
    "        'root': root\n",
    "    },\n",
    "    'public_test': {\n",
    "        'phone_csv': root + '/VMD-VLSP23-public-test/meta_data/public_test_phones.csv',\n",
    "        'word_csv': root + '/VMD-VLSP23-public-test/meta_data/public_test.csv',\n",
    "        'root': root + '/VMD-VLSP23-public-test'\n",
    "    },\n",
    "    'private_test': {\n",
    "        'phone_csv': root + '/VMD-VLSP23-private-test/metadata/private_test_submission.csv',\n",
    "        'root': root + '/VMD-VLSP23-private-test'\n",
    "    }\n",
    "}"
   ]
  },
  {
   "cell_type": "code",
   "execution_count": 3,
   "id": "0e855163-3cfb-407e-a1c5-a2806130b1e9",
   "metadata": {
    "tags": []
   },
   "outputs": [
    {
     "data": {
      "text/plain": [
       "3384"
      ]
     },
     "execution_count": 3,
     "metadata": {},
     "output_type": "execute_result"
    }
   ],
   "source": [
    "train_audios = glob.glob(paths['train']['root'] + '/audio_data/train/*.wav')\n",
    "len(train_audios)"
   ]
  },
  {
   "cell_type": "code",
   "execution_count": 4,
   "id": "5f2d66e5-3de6-448f-a9af-6907abf514cd",
   "metadata": {},
   "outputs": [
    {
     "data": {
      "text/plain": [
       "718"
      ]
     },
     "execution_count": 4,
     "metadata": {},
     "output_type": "execute_result"
    }
   ],
   "source": [
    "public_test_audios = glob.glob(paths['public_test']['root'] + '/audio_data/public_test/*.wav')\n",
    "len(public_test_audios)"
   ]
  },
  {
   "cell_type": "code",
   "execution_count": 5,
   "id": "10e01a0f-05cc-4a89-bb67-a8c991f8feb1",
   "metadata": {},
   "outputs": [
    {
     "data": {
      "text/plain": [
       "1182"
      ]
     },
     "execution_count": 5,
     "metadata": {},
     "output_type": "execute_result"
    }
   ],
   "source": [
    "private_test_audios = glob.glob(paths['private_test']['root'] + '/audio_data/private_test/*.wav')\n",
    "len(private_test_audios)"
   ]
  },
  {
   "cell_type": "code",
   "execution_count": 6,
   "id": "7f97fee4-a444-4251-8f7a-8ed6f66c68d2",
   "metadata": {},
   "outputs": [
    {
     "data": {
      "application/vnd.jupyter.widget-view+json": {
       "model_id": "c989d54205b64f0d9fa4aa7a0690693b",
       "version_major": 2,
       "version_minor": 0
      },
      "text/plain": [
       "  0%|          | 0/1182 [00:00<?, ?it/s]"
      ]
     },
     "metadata": {},
     "output_type": "display_data"
    }
   ],
   "source": [
    "for i in tqdm(private_test_audios):\n",
    "    fix_path = ftfy.fix_text(i)\n",
    "    wav, sr = torchaudio.load(i)\n",
    "    torchaudio.save(fix_path, wav, sr)"
   ]
  },
  {
   "cell_type": "code",
   "execution_count": 7,
   "id": "c4edb883-9483-4bda-865d-a7d6d89cae33",
   "metadata": {},
   "outputs": [],
   "source": [
    "def get_info(name, paths):\n",
    "    # training\n",
    "    lengths = []\n",
    "    for i in tqdm(paths):\n",
    "        wav, sr = torchaudio.load(i)\n",
    "        lengths.append(wav.size(1) / sr)\n",
    "\n",
    "    return {\n",
    "        'name': name,\n",
    "        'min': round(np.min(lengths), 2),\n",
    "        'max': round(np.max(lengths), 2),\n",
    "        'mean': np.mean(lengths),\n",
    "        'median': np.median(lengths),\n",
    "        'quantile_96': np.quantile(lengths, 0.96),\n",
    "        'total': round(np.sum(lengths) / 60 / 60, 2)\n",
    "    }"
   ]
  },
  {
   "cell_type": "code",
   "execution_count": 8,
   "id": "664cfef3-c794-45c1-a277-c7e7149dab55",
   "metadata": {
    "tags": []
   },
   "outputs": [
    {
     "data": {
      "application/vnd.jupyter.widget-view+json": {
       "model_id": "1c9456976dcc4708a0c4ef4261cc2647",
       "version_major": 2,
       "version_minor": 0
      },
      "text/plain": [
       "  0%|          | 0/3384 [00:00<?, ?it/s]"
      ]
     },
     "metadata": {},
     "output_type": "display_data"
    },
    {
     "data": {
      "text/plain": [
       "{'name': 'train',\n",
       " 'min': 0.54,\n",
       " 'max': 19.81,\n",
       " 'mean': 4.16186628250591,\n",
       " 'median': 3.3929375,\n",
       " 'quantile_96': 10.266742499999994,\n",
       " 'total': 3.91}"
      ]
     },
     "execution_count": 8,
     "metadata": {},
     "output_type": "execute_result"
    }
   ],
   "source": [
    "get_info('train', train_audios)"
   ]
  },
  {
   "cell_type": "code",
   "execution_count": 9,
   "id": "b64bf74b-08b9-4576-87e5-62ce5bf4f27a",
   "metadata": {
    "tags": []
   },
   "outputs": [
    {
     "data": {
      "application/vnd.jupyter.widget-view+json": {
       "model_id": "60b64c43da7440868fa230337d9d0d8b",
       "version_major": 2,
       "version_minor": 0
      },
      "text/plain": [
       "  0%|          | 0/718 [00:00<?, ?it/s]"
      ]
     },
     "metadata": {},
     "output_type": "display_data"
    },
    {
     "data": {
      "text/plain": [
       "{'name': 'public_test',\n",
       " 'min': 1.2,\n",
       " 'max': 18.46,\n",
       " 'mean': 3.2566323119777154,\n",
       " 'median': 2.5915,\n",
       " 'quantile_96': 7.12761499999999,\n",
       " 'total': 0.65}"
      ]
     },
     "execution_count": 9,
     "metadata": {},
     "output_type": "execute_result"
    }
   ],
   "source": [
    "get_info('public_test', public_test_audios)"
   ]
  },
  {
   "cell_type": "code",
   "execution_count": 10,
   "id": "1c843e83-fbca-4e24-9dda-a102b1592ce4",
   "metadata": {},
   "outputs": [
    {
     "data": {
      "application/vnd.jupyter.widget-view+json": {
       "model_id": "7ec679d36ddc48bdad7ad43a01e18623",
       "version_major": 2,
       "version_minor": 0
      },
      "text/plain": [
       "  0%|          | 0/1182 [00:00<?, ?it/s]"
      ]
     },
     "metadata": {},
     "output_type": "display_data"
    },
    {
     "data": {
      "text/plain": [
       "{'name': 'private_test',\n",
       " 'min': 1.11,\n",
       " 'max': 18.45,\n",
       " 'mean': 2.841986992385787,\n",
       " 'median': 2.24,\n",
       " 'quantile_96': 6.575875,\n",
       " 'total': 0.93}"
      ]
     },
     "execution_count": 10,
     "metadata": {},
     "output_type": "execute_result"
    }
   ],
   "source": [
    "get_info('private_test', private_test_audios)"
   ]
  },
  {
   "cell_type": "code",
   "execution_count": 11,
   "id": "7cbe3d1a-1a2d-46f6-8ad2-a0e7bc9de5a8",
   "metadata": {},
   "outputs": [],
   "source": [
    "tonal_symbols = {\n",
    "    6: 'ạặậẹệọộợịụỵ',\n",
    "    5: 'ãẵẫẽễõỗỡĩũỹ',\n",
    "    4: 'ảẳẩẻểỏổởỉủỷ',\n",
    "    3: 'áắấéếóốớíúý',\n",
    "    2: 'àằầèềòồờìùỳ',\n",
    "}\n",
    "\n",
    "def get_tonal(word):\n",
    "    for k, symbols in tonal_symbols.items():\n",
    "        for v in symbols:\n",
    "            if v in word:\n",
    "                return k\n",
    "    return 1\n",
    "\n",
    "def get_list_tonal(text):\n",
    "    return [get_tonal(w) for w in text.split()]"
   ]
  },
  {
   "cell_type": "code",
   "execution_count": 12,
   "id": "926ec734-a515-47b9-857d-e197075767d8",
   "metadata": {},
   "outputs": [],
   "source": [
    "def create_data(phone_csv, word_csv, root, have_text=False):\n",
    "    df = pd.read_csv(phone_csv)\n",
    "    word_df = pd.read_csv(word_csv)\n",
    "\n",
    "    sub_df = df[['id', 'path', 'canonical', 'transcript']]\n",
    "    sub_df['text'] = word_df['transcript']\n",
    "    \n",
    "    sub_df['tonal'] = sub_df['text'].map(get_list_tonal)\n",
    "\n",
    "    if have_text:\n",
    "        shuffled_df = shuffled_df.drop('text', axis=1)\n",
    "\n",
    "    sub_df['path'] = sub_df.path.map(lambda x: root + '/' + x)\n",
    "\n",
    "    sub_data = list(sub_df.T.to_dict().values())\n",
    "    return sub_data"
   ]
  },
  {
   "cell_type": "code",
   "execution_count": 13,
   "id": "72e2ce4b-e4b7-472f-886f-15976c999981",
   "metadata": {},
   "outputs": [],
   "source": [
    "train_data = create_data(**paths['train'])\n",
    "public_test_data = create_data(**paths['public_test'])"
   ]
  },
  {
   "cell_type": "code",
   "execution_count": 14,
   "id": "113e847e-cb2a-4d2b-869c-d7a579ebc706",
   "metadata": {},
   "outputs": [
    {
     "data": {
      "text/plain": [
       "(717, 718)"
      ]
     },
     "execution_count": 14,
     "metadata": {},
     "output_type": "execute_result"
    }
   ],
   "source": [
    "new_public_test_data = []\n",
    "for i in public_test_data:\n",
    "    if 'bia-dat' not in i['path']:\n",
    "        new_public_test_data.append(i)\n",
    "len(new_public_test_data), len(public_test_data)"
   ]
  },
  {
   "cell_type": "code",
   "execution_count": 15,
   "id": "048212b3-eaed-4c29-815d-770d954c9dd1",
   "metadata": {},
   "outputs": [],
   "source": [
    "public_test_data = new_public_test_data"
   ]
  },
  {
   "cell_type": "code",
   "execution_count": 16,
   "id": "b4889207-f9a5-4156-874d-7ae8f954e414",
   "metadata": {},
   "outputs": [
    {
     "data": {
      "text/plain": [
       "{'id': 'bia-dat_1618738038209',\n",
       " 'path': '/home/stud_vantuan/projects/md_d_vlsp_2023/data/audio_data/train/bia-dat_1618738038209.wav',\n",
       " 'canonical': 'ɓ iə-5 $ ɗ a-0 tz',\n",
       " 'transcript': 'ɓ iə-4 $ ɗ a-0 tz',\n",
       " 'text': 'bía đăt',\n",
       " 'tonal': [3, 1]}"
      ]
     },
     "execution_count": 16,
     "metadata": {},
     "output_type": "execute_result"
    }
   ],
   "source": [
    "train_data[-1]"
   ]
  },
  {
   "cell_type": "code",
   "execution_count": 17,
   "id": "a3e83287-0c8b-4fa7-a96e-2f647617b4b4",
   "metadata": {},
   "outputs": [
    {
     "data": {
      "text/plain": [
       "[{'id': 'vao-nui_1618754903173',\n",
       "  'path': '/home/stud_vantuan/projects/md_d_vlsp_2023/data/VMD-VLSP23-private-test/audio_data/private_test/vao-nui_1618754903173.wav',\n",
       "  'canonical': 'v aː-1 uz $ n w i-4',\n",
       "  'transcript': 'v aː-1 uz $ n w i-3'},\n",
       " {'id': 'vao-nui_1618754909868',\n",
       "  'path': '/home/stud_vantuan/projects/md_d_vlsp_2023/data/VMD-VLSP23-private-test/audio_data/private_test/vao-nui_1618754909868.wav',\n",
       "  'canonical': 'v aː-1 uz $ n w i-4',\n",
       "  'transcript': 'v aː-1 uz $ n w i-4'}]"
      ]
     },
     "execution_count": 17,
     "metadata": {},
     "output_type": "execute_result"
    }
   ],
   "source": [
    "df = pd.read_csv(paths['private_test']['phone_csv'])\n",
    "df['path'] = df['path'].map(lambda x: ftfy.fix_text(paths['private_test']['root'] + '/' + x))\n",
    "private_test_data = list(df[['id', 'path', 'canonical', 'transcript']].T.to_dict().values())\n",
    "private_test_data[:2]"
   ]
  },
  {
   "cell_type": "code",
   "execution_count": 18,
   "id": "366b7291-26ff-4a05-8bb6-6dc80a992c05",
   "metadata": {},
   "outputs": [
    {
     "data": {
      "text/plain": [
       "(3384, 717, 880)"
      ]
     },
     "execution_count": 18,
     "metadata": {},
     "output_type": "execute_result"
    }
   ],
   "source": [
    "len(train_data), len(public_test_data), len(private_test_data)"
   ]
  },
  {
   "cell_type": "code",
   "execution_count": 19,
   "id": "1314aff7-7eab-4324-8403-3282fec6cabf",
   "metadata": {},
   "outputs": [
    {
     "data": {
      "text/plain": [
       "{'id': 'THA_Nu_6_S00042_201',\n",
       " 'path': '/home/stud_vantuan/projects/md_d_vlsp_2023/data/audio_data/train/THA_Nu_6_S00042_201.wav',\n",
       " 'canonical': 'aː-0 $ m aː-4 $ ɗ aː-2 $ k ɔ-4 $ ɓ ɛ-4 $ l e-0 $ k ɔ-4 $ h aː-1 $ l aː-1 $ k w aː-1 $ k w i-4',\n",
       " 'transcript': 'aː-0 $ m aː-4 $ ɗ aː-2 $ k ɔ-4 $ ɓ ɛ-4 $ l e-0 $ k ɔ-4 $ h aː-1 $ l aː-1 $ k w aː-1 $ k w i-4',\n",
       " 'text': 'à má đã có bé lê có hà là quà quý',\n",
       " 'tonal': [2, 3, 5, 3, 3, 1, 3, 2, 2, 2, 3]}"
      ]
     },
     "execution_count": 19,
     "metadata": {},
     "output_type": "execute_result"
    }
   ],
   "source": [
    "train_data[0]"
   ]
  },
  {
   "cell_type": "code",
   "execution_count": 20,
   "id": "b22ca81c-702c-4f19-a31b-0c50f70cb0f2",
   "metadata": {},
   "outputs": [
    {
     "data": {
      "text/plain": [
       "{'id': 'CPT_Nu_6_S0004_98',\n",
       " 'path': '/home/stud_vantuan/projects/md_d_vlsp_2023/data/VMD-VLSP23-public-test/audio_data/public_test/CPT_Nu_6_S0004_98.wav',\n",
       " 'canonical': 'l aː-1 $ v uə-0 $ k uə-3 $ ɓ iə-3 nz',\n",
       " 'transcript': 'l aː-1 $ v uə-0 $ k uə-3 $ ɓ iə-3 nz',\n",
       " 'text': 'là vua của biển',\n",
       " 'tonal': [2, 1, 4, 4]}"
      ]
     },
     "execution_count": 20,
     "metadata": {},
     "output_type": "execute_result"
    }
   ],
   "source": [
    "public_test_data[600]"
   ]
  },
  {
   "cell_type": "code",
   "execution_count": 21,
   "id": "6e267e21-31df-4fd1-8d20-f600b9582f72",
   "metadata": {},
   "outputs": [
    {
     "data": {
      "text/plain": [
       "120"
      ]
     },
     "execution_count": 21,
     "metadata": {},
     "output_type": "execute_result"
    }
   ],
   "source": [
    "len(set([j for i in [' '.join(k['canonical'].split(' $ ')).split(' ') for k in private_test_data] for j in i]))"
   ]
  },
  {
   "cell_type": "code",
   "execution_count": 22,
   "id": "a396a194-18d3-4905-b200-d103310861e4",
   "metadata": {},
   "outputs": [],
   "source": [
    "train_cnt = [(i['canonical'].count('$') > 1) for i in train_data]\n",
    "public_test_cnt = [(i['canonical'].count('$') > 1) for i in public_test_data]\n",
    "private_test_cnt = [(i['canonical'].count('$') > 1) for i in private_test_data]"
   ]
  },
  {
   "cell_type": "code",
   "execution_count": 23,
   "id": "6b7ccf81-f3d4-4b98-ba2a-52da438699be",
   "metadata": {},
   "outputs": [
    {
     "data": {
      "text/plain": [
       "91.52"
      ]
     },
     "execution_count": 23,
     "metadata": {},
     "output_type": "execute_result"
    }
   ],
   "source": [
    "round(sum(train_cnt) / len(train_cnt) * 100, 2)"
   ]
  },
  {
   "cell_type": "code",
   "execution_count": 24,
   "id": "4daf609d-f601-4f7f-9de9-31a394c0dd89",
   "metadata": {},
   "outputs": [
    {
     "data": {
      "text/plain": [
       "65.69"
      ]
     },
     "execution_count": 24,
     "metadata": {},
     "output_type": "execute_result"
    }
   ],
   "source": [
    "round(sum(public_test_cnt) / len(public_test_cnt) * 100, 2)"
   ]
  },
  {
   "cell_type": "code",
   "execution_count": 25,
   "id": "61a92184-bd6c-4b65-a52e-fc3b0c0406e1",
   "metadata": {},
   "outputs": [
    {
     "data": {
      "text/plain": [
       "74.09"
      ]
     },
     "execution_count": 25,
     "metadata": {},
     "output_type": "execute_result"
    }
   ],
   "source": [
    "round(sum(private_test_cnt) / len(private_test_cnt) * 100, 2)"
   ]
  },
  {
   "cell_type": "code",
   "execution_count": 26,
   "id": "d413e3ec-c250-41f2-a006-1ff132bac625",
   "metadata": {
    "tags": []
   },
   "outputs": [],
   "source": [
    "save_path = '/home/stud_vantuan/projects/md_d_vlsp_2023/data/splitted_data'\n",
    "\n",
    "with open(os.path.join(save_path, 'train.json'), 'w', encoding='utf-8') as f:\n",
    "    json.dump(train_data, f, ensure_ascii=False)\n",
    "\n",
    "with open(os.path.join(save_path, 'public_test.json'), 'w', encoding='utf-8') as f:\n",
    "    json.dump(public_test_data, f, ensure_ascii=False)\n",
    "\n",
    "with open(os.path.join(save_path, 'private_test.json'), 'w', encoding='utf-8') as f:\n",
    "    json.dump(private_test_data, f, ensure_ascii=False)"
   ]
  },
  {
   "cell_type": "code",
   "execution_count": 31,
   "id": "ed4be8f0-d888-471d-913e-7f415f869e0c",
   "metadata": {},
   "outputs": [],
   "source": [
    "def cal_diff(i):\n",
    "    return len(set(i['transcript']) ^ set(i['canonical']))"
   ]
  },
  {
   "cell_type": "code",
   "execution_count": 47,
   "id": "6d5d733f-25b3-4217-a97d-a2573d955879",
   "metadata": {},
   "outputs": [],
   "source": [
    "train_diff = [cal_diff(i) for i in train_data]\n",
    "public_test_diff = [cal_diff(i) for i in public_test_data]\n",
    "private_test_diff = [cal_diff(i) for i in private_test_data]"
   ]
  },
  {
   "cell_type": "code",
   "execution_count": 48,
   "id": "3dbe68b3-2d62-4745-9c65-d996fee7469f",
   "metadata": {},
   "outputs": [],
   "source": [
    "import matplotlib.pyplot as plt\n",
    "import seaborn as sns"
   ]
  },
  {
   "cell_type": "code",
   "execution_count": 50,
   "id": "010ec521-5f9b-41e0-a06a-f9fd32d5c882",
   "metadata": {},
   "outputs": [
    {
     "data": {
      "text/html": [
       "<div>\n",
       "<style scoped>\n",
       "    .dataframe tbody tr th:only-of-type {\n",
       "        vertical-align: middle;\n",
       "    }\n",
       "\n",
       "    .dataframe tbody tr th {\n",
       "        vertical-align: top;\n",
       "    }\n",
       "\n",
       "    .dataframe thead th {\n",
       "        text-align: right;\n",
       "    }\n",
       "</style>\n",
       "<table border=\"1\" class=\"dataframe\">\n",
       "  <thead>\n",
       "    <tr style=\"text-align: right;\">\n",
       "      <th></th>\n",
       "      <th>diff</th>\n",
       "      <th>kind</th>\n",
       "    </tr>\n",
       "  </thead>\n",
       "  <tbody>\n",
       "    <tr>\n",
       "      <th>0</th>\n",
       "      <td>0</td>\n",
       "      <td>train</td>\n",
       "    </tr>\n",
       "    <tr>\n",
       "      <th>1</th>\n",
       "      <td>0</td>\n",
       "      <td>train</td>\n",
       "    </tr>\n",
       "    <tr>\n",
       "      <th>2</th>\n",
       "      <td>0</td>\n",
       "      <td>train</td>\n",
       "    </tr>\n",
       "    <tr>\n",
       "      <th>3</th>\n",
       "      <td>0</td>\n",
       "      <td>train</td>\n",
       "    </tr>\n",
       "    <tr>\n",
       "      <th>4</th>\n",
       "      <td>0</td>\n",
       "      <td>train</td>\n",
       "    </tr>\n",
       "    <tr>\n",
       "      <th>...</th>\n",
       "      <td>...</td>\n",
       "      <td>...</td>\n",
       "    </tr>\n",
       "    <tr>\n",
       "      <th>4976</th>\n",
       "      <td>3</td>\n",
       "      <td>private_test</td>\n",
       "    </tr>\n",
       "    <tr>\n",
       "      <th>4977</th>\n",
       "      <td>0</td>\n",
       "      <td>private_test</td>\n",
       "    </tr>\n",
       "    <tr>\n",
       "      <th>4978</th>\n",
       "      <td>0</td>\n",
       "      <td>private_test</td>\n",
       "    </tr>\n",
       "    <tr>\n",
       "      <th>4979</th>\n",
       "      <td>5</td>\n",
       "      <td>private_test</td>\n",
       "    </tr>\n",
       "    <tr>\n",
       "      <th>4980</th>\n",
       "      <td>3</td>\n",
       "      <td>private_test</td>\n",
       "    </tr>\n",
       "  </tbody>\n",
       "</table>\n",
       "<p>4981 rows × 2 columns</p>\n",
       "</div>"
      ],
      "text/plain": [
       "      diff          kind\n",
       "0        0         train\n",
       "1        0         train\n",
       "2        0         train\n",
       "3        0         train\n",
       "4        0         train\n",
       "...    ...           ...\n",
       "4976     3  private_test\n",
       "4977     0  private_test\n",
       "4978     0  private_test\n",
       "4979     5  private_test\n",
       "4980     3  private_test\n",
       "\n",
       "[4981 rows x 2 columns]"
      ]
     },
     "execution_count": 50,
     "metadata": {},
     "output_type": "execute_result"
    }
   ],
   "source": [
    "data = pd.DataFrame({\n",
    "    'diff': train_diff + public_test_diff + private_test_diff,\n",
    "    'kind': len(train_diff) * ['train'] + len(public_test_diff) * ['public_test'] + len(private_test_diff) * ['private_test']\n",
    "})\n",
    "data"
   ]
  },
  {
   "cell_type": "code",
   "execution_count": 163,
   "id": "3f28cb05-790f-4a1b-8108-3026a7dca89b",
   "metadata": {},
   "outputs": [],
   "source": [
    "def create(kind):\n",
    "    a = data[data['kind'] == kind][['diff']].value_counts()\n",
    "    y = list(a)\n",
    "    x = list(a.reset_index()['diff'].values)\n",
    "    return x, y"
   ]
  },
  {
   "cell_type": "code",
   "execution_count": 176,
   "id": "42f4d375-6027-4154-aa93-0f99417d611f",
   "metadata": {},
   "outputs": [
    {
     "data": {
      "image/png": "[encoded data removed]",
      "text/plain": [
       "<Figure size 600x350 with 3 Axes>"
      ]
     },
     "metadata": {},
     "output_type": "display_data"
    }
   ],
   "source": [
    "fig, ax = plt.subplots(figsize=(6, 3.5), nrows=3, sharex=True)\n",
    "\n",
    "def draw(ax, kind):\n",
    "    x, y = create(kind)\n",
    "    # sns.barplot(data=pd.DataFrame({'x': x, 'y': y}), x='x', y='y', ax=ax)\n",
    "    ax.bar(x, y, color='cyan')\n",
    "    \n",
    "    for rect in ax.patches:\n",
    "        # Get X and Y placement of label from rect.\n",
    "        y_value = rect.get_height()\n",
    "        x_value = rect.get_x() + rect.get_width() / 2\n",
    "    \n",
    "        # Number of points between bar and label. Change to your liking.\n",
    "        space = 3\n",
    "        # Vertical alignment for positive values\n",
    "        va = 'bottom'\n",
    "    \n",
    "        # If value of bar is negative: Place label below bar\n",
    "        if y_value < 0:\n",
    "            # Invert space to place label below\n",
    "            space *= -1\n",
    "            # Vertically align label at top\n",
    "            va = 'top'\n",
    "    \n",
    "        # Use Y value as label and format number with one decimal place\n",
    "        label = \"{:.0f}\".format(y_value)\n",
    "    \n",
    "        # Create annotation\n",
    "        ax.annotate(\n",
    "            label,                      # Use `label` as label\n",
    "            (x_value, y_value),         # Place label at end of the bar\n",
    "            xytext=(0, space),          # Vertically shift label by `space`\n",
    "            textcoords=\"offset points\", # Interpret `xytext` as offset in points\n",
    "            ha='center',\n",
    "            va=va,\n",
    "            color='black')                      # Vertically align label differently for\n",
    "    \n",
    "    ax.spines['top'].set_visible(False)\n",
    "    ax.spines['right'].set_visible(False)\n",
    "    ax.spines['bottom'].set_visible(False)\n",
    "    ax.spines['left'].set_visible(True)\n",
    "\n",
    "    ax.set_ylabel(kind)\n",
    "    ax.set_xlabel('')\n",
    "\n",
    "draw(ax[0], 'train')\n",
    "draw(ax[1], 'public_test')\n",
    "draw(ax[2], 'private_test')\n",
    "\n",
    "fig.tight_layout()\n",
    "plt.savefig('miss_distribution.pdf')\n",
    "\n",
    "plt.show()"
   ]
  },
  {
   "cell_type": "code",
   "execution_count": 55,
   "id": "a32ccc67-bc9e-4b50-873f-ab8a96fa405b",
   "metadata": {},
   "outputs": [
    {
     "name": "stderr",
     "output_type": "stream",
     "text": [
      "/home/stud_vantuan/anaconda3/envs/noise/lib/python3.9/site-packages/seaborn/_oldcore.py:1498: FutureWarning: is_categorical_dtype is deprecated and will be removed in a future version. Use isinstance(dtype, CategoricalDtype) instead\n",
      "  if pd.api.types.is_categorical_dtype(vector):\n",
      "/home/stud_vantuan/anaconda3/envs/noise/lib/python3.9/site-packages/seaborn/_oldcore.py:1498: FutureWarning: is_categorical_dtype is deprecated and will be removed in a future version. Use isinstance(dtype, CategoricalDtype) instead\n",
      "  if pd.api.types.is_categorical_dtype(vector):\n",
      "/home/stud_vantuan/anaconda3/envs/noise/lib/python3.9/site-packages/seaborn/_oldcore.py:1498: FutureWarning: is_categorical_dtype is deprecated and will be removed in a future version. Use isinstance(dtype, CategoricalDtype) instead\n",
      "  if pd.api.types.is_categorical_dtype(vector):\n",
      "/home/stud_vantuan/anaconda3/envs/noise/lib/python3.9/site-packages/seaborn/_oldcore.py:1498: FutureWarning: is_categorical_dtype is deprecated and will be removed in a future version. Use isinstance(dtype, CategoricalDtype) instead\n",
      "  if pd.api.types.is_categorical_dtype(vector):\n",
      "/home/stud_vantuan/anaconda3/envs/noise/lib/python3.9/site-packages/seaborn/_oldcore.py:1119: FutureWarning: use_inf_as_na option is deprecated and will be removed in a future version. Convert inf values to NaN before operating instead.\n",
      "  with pd.option_context('mode.use_inf_as_na', True):\n"
     ]
    },
    {
     "data": {
      "image/png": "[encoded data removed]",
      "text/plain": [
       "<Figure size 640x480 with 1 Axes>"
      ]
     },
     "metadata": {},
     "output_type": "display_data"
    }
   ],
   "source": [
    "fig, ax = plt.subplots()\n",
    "sns.histplot(data, x='diff', hue='kind', bins=50)\n",
    "plt.show()"
   ]
  },
  {
   "cell_type": "markdown",
   "id": "b5975fee-c83a-46d4-8998-57f5ce94fa39",
   "metadata": {},
   "source": [
    "# Old"
   ]
  },
  {
   "cell_type": "code",
   "execution_count": 27,
   "id": "1ecd912e-3a13-4933-a4ff-048bf1ffd1bf",
   "metadata": {
    "tags": []
   },
   "outputs": [],
   "source": [
    "# np.random.seed(100)\n",
    "# shuffled_df = sub_df.sample(frac=1)\n",
    "# shuffled_df['tonal'] = shuffled_df['text'].map(get_list_tonal)\n",
    "# shuffled_df = shuffled_df.drop('text', axis=1)\n",
    "# shuffled_df['path'] = shuffled_df.path.map(lambda x: root_audio + '/' + x)\n",
    "# shuffled_data = list(shuffled_df.T.to_dict().values())\n",
    "# train_ratio = round(0.95 * df.shape[0])\n",
    "# train_data = shuffled_data[:train_ratio]\n",
    "# test_data = shuffled_data[train_ratio:]"
   ]
  },
  {
   "cell_type": "code",
   "execution_count": null,
   "id": "43009484-1a92-41e9-b92c-ac3186b190ba",
   "metadata": {},
   "outputs": [],
   "source": []
  },
  {
   "cell_type": "code",
   "execution_count": null,
   "id": "13cd4c3e-8fe8-45af-887b-cf8c384f2260",
   "metadata": {},
   "outputs": [],
   "source": []
  }
 ],
 "metadata": {
  "kernelspec": {
   "display_name": "Python 3 (ipykernel)",
   "language": "python",
   "name": "python3"
  },
  "language_info": {
   "codemirror_mode": {
    "name": "ipython",
    "version": 3
   },
   "file_extension": ".py",
   "mimetype": "text/x-python",
   "name": "python",
   "nbconvert_exporter": "python",
   "pygments_lexer": "ipython3",
   "version": "3.9.17"
  }
 },
 "nbformat": 4,
 "nbformat_minor": 5
}
