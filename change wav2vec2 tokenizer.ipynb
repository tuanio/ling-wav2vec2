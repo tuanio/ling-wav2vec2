{
 "cells": [
  {
   "cell_type": "code",
   "execution_count": 1,
   "id": "e3f755af-4904-44f6-859d-cd16e8ef1556",
   "metadata": {},
   "outputs": [
    {
     "name": "stdout",
     "output_type": "stream",
     "text": [
      "Token will not been saved to git credential helper. Pass `add_to_git_credential=True` if you want to set the git credential as well.\n",
      "Token is valid (permission: write).\n",
      "Your token has been saved to /home/stud_vantuan/.cache/huggingface/token\n",
      "Login successful\n"
     ]
    }
   ],
   "source": [
    "!huggingface-cli login --token "
   ]
  },
  {
   "cell_type": "code",
   "execution_count": 2,
   "id": "177a5ce8-c4bb-466b-aa88-c693e6e42e5a",
   "metadata": {},
   "outputs": [],
   "source": [
    "from transformers import Wav2Vec2CTCTokenizer, Wav2Vec2Processor"
   ]
  },
  {
   "cell_type": "code",
   "execution_count": 3,
   "id": "e436efad-8f2c-4007-9488-10a3e7e5249f",
   "metadata": {},
   "outputs": [],
   "source": [
    "root_id = \"nguyenvulebinh/wav2vec2-base-vietnamese-250h\""
   ]
  },
  {
   "cell_type": "code",
   "execution_count": 4,
   "id": "2d0753b7-5fc9-42e3-be88-4433603b2ba0",
   "metadata": {},
   "outputs": [
    {
     "data": {
      "text/plain": [
       "123"
      ]
     },
     "execution_count": 4,
     "metadata": {},
     "output_type": "execute_result"
    }
   ],
   "source": [
    "vocab = open('mdd/db/vi_phonemes.txt', 'r', encoding='utf-8').read().strip().split(' ')\n",
    "len(vocab)"
   ]
  },
  {
   "cell_type": "code",
   "execution_count": 5,
   "id": "960333b2-41e7-4e5f-97fd-f3577a89602a",
   "metadata": {},
   "outputs": [],
   "source": [
    "vocab = dict(zip(vocab, range(len(vocab))))\n",
    "vocab['|'] = len(vocab)\n",
    "\n",
    "import json\n",
    "with open('vocab.json', 'w') as vocab_file:\n",
    "    json.dump(vocab, vocab_file)"
   ]
  },
  {
   "cell_type": "code",
   "execution_count": 18,
   "id": "2cfec267-3504-40ca-bb63-048c146234c1",
   "metadata": {},
   "outputs": [
    {
     "data": {
      "text/plain": [
       "Wav2Vec2CTCTokenizer(name_or_path='', vocab_size=124, model_max_length=1000000000000000019884624838656, is_fast=False, padding_side='right', truncation_side='right', special_tokens={'unk_token': '<pad>', 'pad_token': '<pad>'}, clean_up_tokenization_spaces=True)"
      ]
     },
     "execution_count": 18,
     "metadata": {},
     "output_type": "execute_result"
    }
   ],
   "source": [
    "from transformers import Wav2Vec2CTCTokenizer\n",
    "\n",
    "tokenizer = Wav2Vec2CTCTokenizer(\"./vocab.json\", unk_token='<pad>', pad_token='<pad>', \n",
    "                                 bos_token=None, eos_token=None, word_delimiter_token=\"|\")\n",
    "tokenizer"
   ]
  },
  {
   "cell_type": "code",
   "execution_count": 19,
   "id": "c13afdd0-b38a-4a56-8970-086a9893ec26",
   "metadata": {},
   "outputs": [
    {
     "name": "stderr",
     "output_type": "stream",
     "text": [
      "Special tokens have been added in the vocabulary, make sure the associated word embeddings are fine-tuned or trained.\n"
     ]
    },
    {
     "data": {
      "text/plain": [
       "Wav2Vec2Processor:\n",
       "- feature_extractor: Wav2Vec2FeatureExtractor {\n",
       "  \"do_normalize\": true,\n",
       "  \"feature_extractor_type\": \"Wav2Vec2FeatureExtractor\",\n",
       "  \"feature_size\": 1,\n",
       "  \"padding_side\": \"right\",\n",
       "  \"padding_value\": 0.0,\n",
       "  \"return_attention_mask\": false,\n",
       "  \"sampling_rate\": 16000\n",
       "}\n",
       "\n",
       "- tokenizer: Wav2Vec2CTCTokenizer(name_or_path='nguyenvulebinh/wav2vec2-base-vietnamese-250h', vocab_size=110, model_max_length=1000000000000000019884624838656, is_fast=False, padding_side='right', truncation_side='right', special_tokens={'bos_token': '<s>', 'eos_token': '</s>', 'unk_token': '<unk>', 'pad_token': '<pad>', 'additional_special_tokens': [AddedToken(\"<s>\", rstrip=False, lstrip=False, single_word=False, normalized=True), AddedToken(\"</s>\", rstrip=False, lstrip=False, single_word=False, normalized=True)]}, clean_up_tokenization_spaces=True)"
      ]
     },
     "execution_count": 19,
     "metadata": {},
     "output_type": "execute_result"
    }
   ],
   "source": [
    "processor = Wav2Vec2Processor.from_pretrained(\"nguyenvulebinh/wav2vec2-base-vietnamese-250h\")\n",
    "processor"
   ]
  },
  {
   "cell_type": "code",
   "execution_count": 20,
   "id": "39c57030-de7d-4edd-976e-e77d9cda5319",
   "metadata": {},
   "outputs": [],
   "source": [
    "processor.tokenizer = tokenizer"
   ]
  },
  {
   "cell_type": "code",
   "execution_count": 21,
   "id": "85e2198c-96fb-49de-aa30-4d4aab8dceb6",
   "metadata": {},
   "outputs": [
    {
     "data": {
      "text/plain": [
       "Wav2Vec2Processor:\n",
       "- feature_extractor: Wav2Vec2FeatureExtractor {\n",
       "  \"do_normalize\": true,\n",
       "  \"feature_extractor_type\": \"Wav2Vec2FeatureExtractor\",\n",
       "  \"feature_size\": 1,\n",
       "  \"padding_side\": \"right\",\n",
       "  \"padding_value\": 0.0,\n",
       "  \"return_attention_mask\": false,\n",
       "  \"sampling_rate\": 16000\n",
       "}\n",
       "\n",
       "- tokenizer: Wav2Vec2CTCTokenizer(name_or_path='', vocab_size=124, model_max_length=1000000000000000019884624838656, is_fast=False, padding_side='right', truncation_side='right', special_tokens={'unk_token': '<pad>', 'pad_token': '<pad>'}, clean_up_tokenization_spaces=True)"
      ]
     },
     "execution_count": 21,
     "metadata": {},
     "output_type": "execute_result"
    }
   ],
   "source": [
    "processor"
   ]
  },
  {
   "cell_type": "code",
   "execution_count": 22,
   "id": "547196de-3750-4d43-8332-066a5bad792d",
   "metadata": {},
   "outputs": [
    {
     "data": {
      "text/plain": [
       "CommitInfo(commit_url='https://huggingface.co/tuanio/wav2vec2-processor-vietnamese-phonemes/commit/a0f41f26a9eb3605bcb9460ed10add0d2c09c5df', commit_message='Upload processor', commit_description='', oid='a0f41f26a9eb3605bcb9460ed10add0d2c09c5df', pr_url=None, pr_revision=None, pr_num=None)"
      ]
     },
     "execution_count": 22,
     "metadata": {},
     "output_type": "execute_result"
    }
   ],
   "source": [
    "processor.push_to_hub('wav2vec2-processor-vietnamese-phonemes')"
   ]
  },
  {
   "cell_type": "code",
   "execution_count": 23,
   "id": "b9a6fff4-976f-4abe-b1b8-2ec6d5a0c343",
   "metadata": {},
   "outputs": [
    {
     "data": {
      "text/plain": [
       "{'input_ids': [], 'attention_mask': []}"
      ]
     },
     "execution_count": 23,
     "metadata": {},
     "output_type": "execute_result"
    }
   ],
   "source": [
    "tokenizer('')"
   ]
  },
  {
   "cell_type": "code",
   "execution_count": 24,
   "id": "9214af9d-9b43-407a-8815-4c2055413b21",
   "metadata": {},
   "outputs": [
    {
     "data": {
      "text/plain": [
       "'t o-3 $ t iə-0 nz $ ɓ o-1 $ k ə-0 uz $ ɲ aː-1 $ l aː-1 $ l w aː-1 iz $ ɓ o-1 $ k ə-0 uz $ l w i-4 $ t͡ɕ w iə-0 nz $ l aː-1 mz $ t o-3 $ t͡ɕ e-0 nz $ v ea ː-4 k̟z $ ɗ aː-4'"
      ]
     },
     "execution_count": 24,
     "metadata": {},
     "output_type": "execute_result"
    }
   ],
   "source": [
    "s = \"t o-3 $ t iə-0 nz $ ɓ o-1 $ k ə-0 uz $ ɲ aː-1 $ l aː-1 $ l w aː-1 iz $ ɓ o-1 $ k ə-0 uz $ l w i-4 $ t͡ɕ w iə-0 nz $ l aː-1 mz $ t o-3 $ t͡ɕ e-0 nz $ v ea ː-4 k̟z $ ɗ aː-4\"\n",
    "s"
   ]
  },
  {
   "cell_type": "code",
   "execution_count": 48,
   "id": "e9aec3c4-a26e-4be8-b15f-5cd88da8d572",
   "metadata": {},
   "outputs": [
    {
     "data": {
      "text/plain": [
       "44"
      ]
     },
     "execution_count": 48,
     "metadata": {},
     "output_type": "execute_result"
    }
   ],
   "source": [
    "len(' '.join(s.split(' $ ')).split(' '))"
   ]
  },
  {
   "cell_type": "code",
   "execution_count": 50,
   "id": "6264fd26-0ade-4765-9cd3-364c18d2b6a4",
   "metadata": {},
   "outputs": [
    {
     "name": "stdout",
     "output_type": "stream",
     "text": [
      "to-3tiə-0nzɓo-1kə-0uzɲaː-1laː-1lwaː-1izɓo-1kə-0uzlwi-4t͡ɕwiə-0nzlaː-1mzto-3t͡ɕe-0nzveaː-4k̟zɗaː-4\n"
     ]
    }
   ],
   "source": [
    "abc = ''.join(' '.join(s.split(' $ ')).split(' '))\n",
    "print(abc)"
   ]
  },
  {
   "cell_type": "code",
   "execution_count": 51,
   "id": "487ae409-7864-423b-b673-726e07f4aba5",
   "metadata": {},
   "outputs": [
    {
     "data": {
      "text/plain": [
       "43"
      ]
     },
     "execution_count": 51,
     "metadata": {},
     "output_type": "execute_result"
    }
   ],
   "source": [
    "len(tokenizer.encode(abc))"
   ]
  },
  {
   "cell_type": "code",
   "execution_count": 27,
   "id": "0e8206dc-49bf-46b0-99bd-581d15511048",
   "metadata": {},
   "outputs": [
    {
     "data": {
      "text/plain": [
       "['t',\n",
       " 'o-3',\n",
       " 't',\n",
       " 'iə-0',\n",
       " 'nz',\n",
       " 'ɓ',\n",
       " 'o-1',\n",
       " 'k',\n",
       " 'ə-0',\n",
       " 'uz',\n",
       " 'ɲ',\n",
       " 'aː-1',\n",
       " 'l',\n",
       " 'aː-1',\n",
       " 'l',\n",
       " '',\n",
       " 'w',\n",
       " 'aː-1',\n",
       " 'iz',\n",
       " 'ɓ',\n",
       " 'o-1',\n",
       " 'k',\n",
       " 'ə-0',\n",
       " 'uz',\n",
       " 'l',\n",
       " '',\n",
       " 'w',\n",
       " 'i-4',\n",
       " 't͡ɕ',\n",
       " 'w',\n",
       " 'iə-0',\n",
       " 'nz',\n",
       " 'l',\n",
       " 'aː-1',\n",
       " 'mz',\n",
       " 't',\n",
       " 'o-3',\n",
       " 't͡ɕ',\n",
       " 'e-0',\n",
       " 'nz',\n",
       " 'v',\n",
       " '',\n",
       " '',\n",
       " '',\n",
       " '',\n",
       " '',\n",
       " '',\n",
       " '',\n",
       " 'k̟z',\n",
       " 'ɗ',\n",
       " 'aː-4']"
      ]
     },
     "execution_count": 27,
     "metadata": {},
     "output_type": "execute_result"
    }
   ],
   "source": [
    "[tokenizer.decode([i]) for i in tokenizer(abc).input_ids]"
   ]
  },
  {
   "cell_type": "code",
   "execution_count": null,
   "id": "79ab33bf-e58e-4a57-9d98-0d166ef34c7d",
   "metadata": {},
   "outputs": [],
   "source": [
    "\n"
   ]
  }
 ],
 "metadata": {
  "kernelspec": {
   "display_name": "Python 3 (ipykernel)",
   "language": "python",
   "name": "python3"
  },
  "language_info": {
   "codemirror_mode": {
    "name": "ipython",
    "version": 3
   },
   "file_extension": ".py",
   "mimetype": "text/x-python",
   "name": "python",
   "nbconvert_exporter": "python",
   "pygments_lexer": "ipython3",
   "version": "3.9.17"
  }
 },
 "nbformat": 4,
 "nbformat_minor": 5
}
